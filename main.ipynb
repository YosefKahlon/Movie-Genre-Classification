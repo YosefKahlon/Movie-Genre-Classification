{
 "cells": [
  {
   "cell_type": "markdown",
   "metadata": {
    "collapsed": true,
    "pycharm": {
     "name": "#%% md\n"
    }
   },
   "source": [
    "# Final Project Machine Learning Course\n",
    "\n",
    "\n",
    "## Movie Genre Classification\n",
    "Dataset link: [Genre Classification Dataset - IMDb](https://www.kaggle.com/datasets/hijest/genre-classification-dataset-imdb/data)\n",
    "\n",
    "\n"
   ]
  },
  {
   "cell_type": "markdown",
   "source": [
    "\n",
    "### We are tasked to classify genre to movie base on the description.\n",
    "\n",
    "\n",
    "\n",
    "\n"
   ],
   "metadata": {
    "collapsed": false,
    "pycharm": {
     "name": "#%% md\n"
    }
   }
  },
  {
   "cell_type": "markdown",
   "source": [
    "### Load dataset\n",
    "# todo: need to explien the data here\n",
    "\n"
   ],
   "metadata": {
    "collapsed": false,
    "pycharm": {
     "name": "#%% md\n"
    }
   }
  },
  {
   "cell_type": "code",
   "execution_count": 3,
   "outputs": [],
   "source": [
    "import pandas as pd"
   ],
   "metadata": {
    "collapsed": false,
    "pycharm": {
     "name": "#%%\n"
    }
   }
  },
  {
   "cell_type": "code",
   "execution_count": 4,
   "outputs": [],
   "source": [
    "#read the data using pandas\n",
    "\n",
    "train_path = 'Genre Classification Dataset/train_data.txt'\n",
    "train_data = pd.read_csv(train_path, delimiter=':::', engine='python', names=['ID', 'Title', 'Genre', 'Description'])\n",
    "\n",
    "test_path = 'Genre Classification Dataset/test_data.txt'\n",
    "test_data = pd.read_csv(test_path, delimiter=':::', engine='python', names=['ID', 'Title', 'Description'])\n",
    "\n",
    "test_sol_path = 'Genre Classification Dataset/test_data_solution.txt'\n",
    "test_sol_data = pd.read_csv(test_sol_path, delimiter=':::', engine='python',names=['ID', 'Title', 'Genre', 'Description'])"
   ],
   "metadata": {
    "collapsed": false,
    "pycharm": {
     "name": "#%%\n"
    }
   }
  },
  {
   "cell_type": "code",
   "execution_count": 5,
   "outputs": [
    {
     "name": "stdout",
     "output_type": "stream",
     "text": [
      "(54214, 4)\n"
     ]
    },
    {
     "data": {
      "text/plain": "   ID                               Title          Genre  \\\n0   1       Oscar et la dame rose (2009)          drama    \n1   2                       Cupid (1997)       thriller    \n2   3   Young, Wild and Wonderful (1980)          adult    \n3   4              The Secret Sin (1915)          drama    \n4   5             The Unrecovered (2007)          drama    \n5   6             Quality Control (2011)    documentary    \n6   7                 \"Pink Slip\" (2009)         comedy    \n7   8               One Step Away (1985)          crime    \n8   9           \"Desperate Hours\" (2016)     reality-tv    \n9  10                   Spirits (2014/I)         horror    \n\n                                         Description  \n0   Listening in to a conversation between his do...  \n1   A brother and sister with a past incestuous r...  \n2   As the bus empties the students for their fie...  \n3   To help their unemployed father make ends mee...  \n4   The film's title refers not only to the un-re...  \n5   Quality Control consists of a series of 16mm ...  \n6   In tough economic times Max and Joey have all...  \n7   Ron Petrie (Keanu Reeves) is a troubled teen ...  \n8   A sudden calamitous event, causing great loss...  \n9   Four high school students embark on a terrify...  ",
      "text/html": "<div>\n<style scoped>\n    .dataframe tbody tr th:only-of-type {\n        vertical-align: middle;\n    }\n\n    .dataframe tbody tr th {\n        vertical-align: top;\n    }\n\n    .dataframe thead th {\n        text-align: right;\n    }\n</style>\n<table border=\"1\" class=\"dataframe\">\n  <thead>\n    <tr style=\"text-align: right;\">\n      <th></th>\n      <th>ID</th>\n      <th>Title</th>\n      <th>Genre</th>\n      <th>Description</th>\n    </tr>\n  </thead>\n  <tbody>\n    <tr>\n      <th>0</th>\n      <td>1</td>\n      <td>Oscar et la dame rose (2009)</td>\n      <td>drama</td>\n      <td>Listening in to a conversation between his do...</td>\n    </tr>\n    <tr>\n      <th>1</th>\n      <td>2</td>\n      <td>Cupid (1997)</td>\n      <td>thriller</td>\n      <td>A brother and sister with a past incestuous r...</td>\n    </tr>\n    <tr>\n      <th>2</th>\n      <td>3</td>\n      <td>Young, Wild and Wonderful (1980)</td>\n      <td>adult</td>\n      <td>As the bus empties the students for their fie...</td>\n    </tr>\n    <tr>\n      <th>3</th>\n      <td>4</td>\n      <td>The Secret Sin (1915)</td>\n      <td>drama</td>\n      <td>To help their unemployed father make ends mee...</td>\n    </tr>\n    <tr>\n      <th>4</th>\n      <td>5</td>\n      <td>The Unrecovered (2007)</td>\n      <td>drama</td>\n      <td>The film's title refers not only to the un-re...</td>\n    </tr>\n    <tr>\n      <th>5</th>\n      <td>6</td>\n      <td>Quality Control (2011)</td>\n      <td>documentary</td>\n      <td>Quality Control consists of a series of 16mm ...</td>\n    </tr>\n    <tr>\n      <th>6</th>\n      <td>7</td>\n      <td>\"Pink Slip\" (2009)</td>\n      <td>comedy</td>\n      <td>In tough economic times Max and Joey have all...</td>\n    </tr>\n    <tr>\n      <th>7</th>\n      <td>8</td>\n      <td>One Step Away (1985)</td>\n      <td>crime</td>\n      <td>Ron Petrie (Keanu Reeves) is a troubled teen ...</td>\n    </tr>\n    <tr>\n      <th>8</th>\n      <td>9</td>\n      <td>\"Desperate Hours\" (2016)</td>\n      <td>reality-tv</td>\n      <td>A sudden calamitous event, causing great loss...</td>\n    </tr>\n    <tr>\n      <th>9</th>\n      <td>10</td>\n      <td>Spirits (2014/I)</td>\n      <td>horror</td>\n      <td>Four high school students embark on a terrify...</td>\n    </tr>\n  </tbody>\n</table>\n</div>"
     },
     "execution_count": 5,
     "metadata": {},
     "output_type": "execute_result"
    }
   ],
   "source": [
    "# view the data\n",
    "\n",
    "print(train_data.shape)\n",
    "train_data.head(n=10)\n",
    "\n",
    "# print(test_data.shape)\n",
    "# test_data.head(n=10)\n"
   ],
   "metadata": {
    "collapsed": false,
    "pycharm": {
     "name": "#%%\n"
    }
   }
  },
  {
   "cell_type": "markdown",
   "source": [
    "### Data Cleaning and Preprocessing\n",
    "We will clean and preprocess the data\n",
    "- Remove duplicates and NaN values.\n",
    "- Preprocess the text data (description) for better model performance (e.g., tokenization, removing stopwords, stemming/lemmatization)."
   ],
   "metadata": {
    "collapsed": false,
    "pycharm": {
     "name": "#%% md\n"
    }
   }
  },
  {
   "cell_type": "code",
   "execution_count": 5,
   "outputs": [],
   "source": [],
   "metadata": {
    "collapsed": false,
    "pycharm": {
     "name": "#%%\n"
    }
   }
  },
  {
   "cell_type": "code",
   "execution_count": 6,
   "outputs": [
    {
     "name": "stderr",
     "output_type": "stream",
     "text": [
      "[nltk_data] Downloading package stopwords to\n",
      "[nltk_data]     C:\\Users\\97252\\AppData\\Roaming\\nltk_data...\n",
      "[nltk_data]   Package stopwords is already up-to-date!\n"
     ]
    },
    {
     "data": {
      "text/plain": "True"
     },
     "execution_count": 6,
     "metadata": {},
     "output_type": "execute_result"
    }
   ],
   "source": [
    "import pandas as pd\n",
    "import nltk\n",
    "from nltk import LancasterStemmer\n",
    "from nltk.corpus import stopwords\n",
    "\n",
    "# Download the stopwords dataset\n",
    "nltk.download('stopwords')"
   ],
   "metadata": {
    "collapsed": false,
    "pycharm": {
     "name": "#%%\n"
    }
   }
  },
  {
   "cell_type": "code",
   "execution_count": 7,
   "outputs": [
    {
     "name": "stdout",
     "output_type": "stream",
     "text": [
      "0\n"
     ]
    }
   ],
   "source": [
    "## Check for Duplicates and Remove them\n",
    "num = train_data.duplicated().sum()\n",
    "print(num)\n",
    "if num > 0:\n",
    "    train_data.drop_duplicates(inplace=True)"
   ],
   "metadata": {
    "collapsed": false,
    "pycharm": {
     "name": "#%%\n"
    }
   }
  },
  {
   "cell_type": "code",
   "execution_count": 8,
   "outputs": [
    {
     "name": "stdout",
     "output_type": "stream",
     "text": [
      "ID             0\n",
      "Title          0\n",
      "Genre          0\n",
      "Description    0\n",
      "dtype: int64\n"
     ]
    }
   ],
   "source": [
    "## Check for nan values\n",
    "num = train_data.isna().sum()\n",
    "print(num)\n",
    "train_data.dropna(inplace=True)"
   ],
   "metadata": {
    "collapsed": false,
    "pycharm": {
     "name": "#%%\n"
    }
   }
  },
  {
   "cell_type": "code",
   "execution_count": 9,
   "outputs": [
    {
     "name": "stdout",
     "output_type": "stream",
     "text": [
      "{'which', \"wouldn't\", 'about', 'wasn', 'were', \"it's\", 'is', 'them', 'have', \"you'll\", 'does', 'once', 'into', 'after', \"needn't\", \"you're\", 'should', 'has', 'was', \"wasn't\", 'ourselves', 's', 'i', 'there', 'shouldn', 'our', 'himself', 'theirs', \"isn't\", \"don't\", 'y', 'what', 'ma', \"hasn't\", 'whom', 'until', 'mustn', \"shan't\", 'again', \"should've\", \"doesn't\", 'his', 'mightn', 'had', 'both', 'that', 'to', \"she's\", 'in', 't', 'hasn', \"weren't\", 'him', 'few', 'm', 'now', \"won't\", 'because', 'her', 'we', 'its', 'why', 'how', 'of', 'those', 've', 'on', \"mightn't\", 'he', 'then', \"hadn't\", 'where', 'or', 'just', 'itself', 'a', 'for', 'from', 'herself', 'yourselves', 'too', 'doing', 'won', 'being', 'weren', 'am', \"you've\", 'at', 'having', 'as', 'this', 'here', \"shouldn't\", 'before', 'an', 'me', 'your', 'haven', 'so', \"that'll\", 'if', 'above', 're', 'own', 'these', 'and', 'are', 'through', 'than', \"didn't\", 'down', 'between', 'it', 'by', 'don', 'themselves', 'yourself', \"you'd\", 'couldn', 'out', 'all', 'ain', 'but', 'more', 'hers', 'only', 'my', 'doesn', 'been', 'ours', 'isn', 'be', 'will', 'o', 'didn', 'myself', 'shan', 'their', 'such', 'any', 'needn', 'during', 'under', 'not', 'wouldn', 'very', 'she', 'over', 'nor', 'while', \"haven't\", 'most', 'you', 'did', 'who', \"aren't\", 'some', \"couldn't\", 'other', 'hadn', 'up', 'off', 'each', 'they', 'no', 'below', \"mustn't\", 'with', 'the', 'do', 'against', 'same', 'll', 'further', 'd', 'aren', 'when', 'can', 'yours'}\n"
     ]
    },
    {
     "data": {
      "text/plain": "   ID                               Title       Genre  \\\n0   1       Oscar et la dame rose (2009)       drama    \n1   2                       Cupid (1997)    thriller    \n2   3   Young, Wild and Wonderful (1980)       adult    \n3   4              The Secret Sin (1915)       drama    \n4   5             The Unrecovered (2007)       drama    \n\n                                         Description  \\\n0   Listening in to a conversation between his do...   \n1   A brother and sister with a past incestuous r...   \n2   As the bus empties the students for their fie...   \n3   To help their unemployed father make ends mee...   \n4   The film's title refers not only to the un-re...   \n\n                                       Text_cleaning  \n0  list  convers  doct  parents,  10-year-old  os...  \n1  broth  sist  past  incestu  rel  cur  murd  re...  \n2  bus  empty  stud  field  trip  muse  nat  hist...  \n3  help  unemploy  fath  mak  end  meet,  edi  tw...  \n4  film's  titl  ref  un-recovered  body  ground ...  ",
      "text/html": "<div>\n<style scoped>\n    .dataframe tbody tr th:only-of-type {\n        vertical-align: middle;\n    }\n\n    .dataframe tbody tr th {\n        vertical-align: top;\n    }\n\n    .dataframe thead th {\n        text-align: right;\n    }\n</style>\n<table border=\"1\" class=\"dataframe\">\n  <thead>\n    <tr style=\"text-align: right;\">\n      <th></th>\n      <th>ID</th>\n      <th>Title</th>\n      <th>Genre</th>\n      <th>Description</th>\n      <th>Text_cleaning</th>\n    </tr>\n  </thead>\n  <tbody>\n    <tr>\n      <th>0</th>\n      <td>1</td>\n      <td>Oscar et la dame rose (2009)</td>\n      <td>drama</td>\n      <td>Listening in to a conversation between his do...</td>\n      <td>list  convers  doct  parents,  10-year-old  os...</td>\n    </tr>\n    <tr>\n      <th>1</th>\n      <td>2</td>\n      <td>Cupid (1997)</td>\n      <td>thriller</td>\n      <td>A brother and sister with a past incestuous r...</td>\n      <td>broth  sist  past  incestu  rel  cur  murd  re...</td>\n    </tr>\n    <tr>\n      <th>2</th>\n      <td>3</td>\n      <td>Young, Wild and Wonderful (1980)</td>\n      <td>adult</td>\n      <td>As the bus empties the students for their fie...</td>\n      <td>bus  empty  stud  field  trip  muse  nat  hist...</td>\n    </tr>\n    <tr>\n      <th>3</th>\n      <td>4</td>\n      <td>The Secret Sin (1915)</td>\n      <td>drama</td>\n      <td>To help their unemployed father make ends mee...</td>\n      <td>help  unemploy  fath  mak  end  meet,  edi  tw...</td>\n    </tr>\n    <tr>\n      <th>4</th>\n      <td>5</td>\n      <td>The Unrecovered (2007)</td>\n      <td>drama</td>\n      <td>The film's title refers not only to the un-re...</td>\n      <td>film's  titl  ref  un-recovered  body  ground ...</td>\n    </tr>\n  </tbody>\n</table>\n</div>"
     },
     "execution_count": 9,
     "metadata": {},
     "output_type": "execute_result"
    }
   ],
   "source": [
    "# Preprocessing\n",
    "\n",
    "#Get the list of English stopwords\n",
    "stop_words = set(stopwords.words('english'))\n",
    "print(stop_words)\n",
    "\n",
    "#exmple for LancasterStemmer\n",
    "# words = ['sincerely','electricity','roughly','ringing']\n",
    "# Lanc = LancasterStemmer()\n",
    "# for w in words:\n",
    "#     print(w, \" : \", Lanc.stem(w))\n",
    "\n",
    "\n",
    "Lanc = LancasterStemmer()\n",
    "\n",
    "\n",
    "#Todo: look for more to clean\n",
    "def clean_text(text):\n",
    "    \"\"\"\n",
    "    Function to clean and preprocess text data.\n",
    "\n",
    "    Args:\n",
    "    - text (str): Input text\n",
    "\n",
    "    Returns:\n",
    "    - str: Processed text\n",
    "    \"\"\"\n",
    "    text = text.lower()  # Lowercase all characters\n",
    "\n",
    "    # Tokenize the text into individual words\n",
    "    words = text.split()\n",
    "\n",
    "      # Remove stopwords from the tokenized text\n",
    "    filtered_words = [word for word in words if word not in stop_words]\n",
    "\n",
    "    # Stemming\n",
    "    stemmed_words = [Lanc.stem(word) for word in filtered_words]\n",
    "\n",
    "\n",
    "    # Define the separator for joining words\n",
    "    word_separator = '  '\n",
    "     # Join the stemmed words back into a single string\n",
    "    cleaned_text = word_separator.join(stemmed_words)\n",
    "\n",
    "    return cleaned_text\n",
    "\n",
    "\n",
    "\n",
    "train_data['Text_cleaning'] = train_data['Description'].apply(clean_text)\n",
    "test_data['Text_cleaning'] = test_data['Description'].apply(clean_text)\n",
    "train_data.head()"
   ],
   "metadata": {
    "collapsed": false,
    "pycharm": {
     "name": "#%%\n"
    }
   }
  },
  {
   "cell_type": "markdown",
   "source": [
    "###  Data Visualization\n"
   ],
   "metadata": {
    "collapsed": false,
    "pycharm": {
     "name": "#%% md\n"
    }
   }
  },
  {
   "cell_type": "code",
   "execution_count": 10,
   "outputs": [],
   "source": [
    "import matplotlib.pyplot as plt\n",
    "import seaborn as sns"
   ],
   "metadata": {
    "collapsed": false,
    "pycharm": {
     "name": "#%%\n"
    }
   }
  },
  {
   "cell_type": "code",
   "execution_count": 11,
   "outputs": [
    {
     "data": {
      "text/plain": "Genre\ndrama           13613\ndocumentary     13096\ncomedy           7447\nshort            5073\nhorror           2204\nthriller         1591\naction           1315\nwestern          1032\nreality-tv        884\nfamily            784\nadventure         775\nmusic             731\nromance           672\nsci-fi            647\nadult             590\ncrime             505\nanimation         498\nsport             432\ntalk-show         391\nfantasy           323\nmystery           319\nmusical           277\nbiography         265\nhistory           243\ngame-show         194\nnews              181\nwar               132\nName: count, dtype: int64"
     },
     "execution_count": 11,
     "metadata": {},
     "output_type": "execute_result"
    }
   ],
   "source": [
    "train_data[\"Genre\"].value_counts()"
   ],
   "metadata": {
    "collapsed": false,
    "pycharm": {
     "name": "#%%\n"
    }
   }
  },
  {
   "cell_type": "code",
   "execution_count": 12,
   "outputs": [
    {
     "data": {
      "text/plain": "<Figure size 1000x800 with 1 Axes>",
      "image/png": "[encoded data removed]"
     },
     "metadata": {},
     "output_type": "display_data"
    }
   ],
   "source": [
    "# Set the style of seaborn\n",
    "sns.set(style=\"whitegrid\")\n",
    "\n",
    "# Plotting genre distribution horizontally\n",
    "plt.figure(figsize=(10, 8))\n",
    "sns.countplot(x='Genre', data=train_data, order=train_data['Genre'].value_counts().index)\n",
    "plt.title('Genre Distribution')\n",
    "plt.xlabel('Genre')\n",
    "plt.ylabel('Count')\n",
    "plt.xticks(rotation=45)  # Rotate x-axis labels for better readability\n",
    "plt.show()"
   ],
   "metadata": {
    "collapsed": false,
    "pycharm": {
     "name": "#%%\n"
    }
   }
  },
  {
   "cell_type": "markdown",
   "source": [
    "# Text to vectors"
   ],
   "metadata": {
    "collapsed": false
   }
  },
  {
   "cell_type": "code",
   "execution_count": 13,
   "outputs": [],
   "source": [
    "from sklearn.feature_extraction.text import TfidfVectorizer\n",
    "from sklearn.feature_extraction.text import CountVectorizer"
   ],
   "metadata": {
    "collapsed": false,
    "pycharm": {
     "name": "#%%\n"
    }
   }
  },
  {
   "cell_type": "code",
   "execution_count": 14,
   "outputs": [],
   "source": [
    "# Initialize TfidfVectorizer\n",
    "tfidf_vectorizer = TfidfVectorizer()\n",
    "\n",
    "# Fit and transform training data\n",
    "tfidf_train = tfidf_vectorizer.fit_transform(train_data['Text_cleaning'])\n",
    "\n",
    "# Transform test data\n",
    "tfidf_test = tfidf_vectorizer.transform(test_data['Text_cleaning'])\n",
    "\n",
    "\n",
    "# Initialize CountVectorizer\n",
    "count_vectorizer = CountVectorizer()\n",
    "\n",
    "# Fit and transform training data\n",
    "count_train = count_vectorizer.fit_transform(train_data['Text_cleaning'])\n",
    "\n",
    "# Transform test data\n",
    "count_test = count_vectorizer.transform(test_data['Text_cleaning'])"
   ],
   "metadata": {
    "collapsed": false,
    "pycharm": {
     "name": "#%%\n"
    }
   }
  },
  {
   "cell_type": "markdown",
   "source": [
    "## Evaluate the Model\n"
   ],
   "metadata": {
    "collapsed": false
   }
  },
  {
   "cell_type": "code",
   "execution_count": 15,
   "outputs": [],
   "source": [
    "from sklearn.naive_bayes import MultinomialNB\n",
    "from sklearn.svm import SVC\n",
    "from sklearn.metrics import accuracy_score, classification_report"
   ],
   "metadata": {
    "collapsed": false,
    "pycharm": {
     "name": "#%%\n"
    }
   }
  },
  {
   "cell_type": "code",
   "execution_count": 16,
   "outputs": [
    {
     "name": "stdout",
     "output_type": "stream",
     "text": [
      "Accuracy: 0.4373985239852399\n",
      "\n",
      "Classification Report:\n"
     ]
    },
    {
     "name": "stderr",
     "output_type": "stream",
     "text": [
      "C:\\Users\\97252\\PycharmProjects\\Movie Genre Classification\\Script\\lib\\site-packages\\sklearn\\metrics\\_classification.py:1509: UndefinedMetricWarning: Precision is ill-defined and being set to 0.0 in labels with no predicted samples. Use `zero_division` parameter to control this behavior.\n",
      "  _warn_prf(average, modifier, f\"{metric.capitalize()} is\", len(result))\n",
      "C:\\Users\\97252\\PycharmProjects\\Movie Genre Classification\\Script\\lib\\site-packages\\sklearn\\metrics\\_classification.py:1509: UndefinedMetricWarning: Precision is ill-defined and being set to 0.0 in labels with no predicted samples. Use `zero_division` parameter to control this behavior.\n",
      "  _warn_prf(average, modifier, f\"{metric.capitalize()} is\", len(result))\n"
     ]
    },
    {
     "name": "stdout",
     "output_type": "stream",
     "text": [
      "               precision    recall  f1-score   support\n",
      "\n",
      "      action        0.00      0.00      0.00      1314\n",
      "       adult        0.00      0.00      0.00       590\n",
      "   adventure        0.00      0.00      0.00       775\n",
      "   animation        0.00      0.00      0.00       498\n",
      "   biography        0.00      0.00      0.00       264\n",
      "      comedy        0.73      0.03      0.05      7446\n",
      "       crime        0.00      0.00      0.00       505\n",
      " documentary        0.52      0.89      0.66     13096\n",
      "       drama        0.38      0.87      0.52     13612\n",
      "      family        0.00      0.00      0.00       783\n",
      "     fantasy        0.00      0.00      0.00       322\n",
      "   game-show        0.00      0.00      0.00       193\n",
      "     history        0.00      0.00      0.00       243\n",
      "      horror        0.00      0.00      0.00      2204\n",
      "       music        0.00      0.00      0.00       731\n",
      "     musical        0.00      0.00      0.00       276\n",
      "     mystery        0.00      0.00      0.00       318\n",
      "        news        0.00      0.00      0.00       181\n",
      "  reality-tv        0.00      0.00      0.00       883\n",
      "     romance        0.00      0.00      0.00       672\n",
      "      sci-fi        0.00      0.00      0.00       646\n",
      "       short        1.00      0.00      0.00      5072\n",
      "       sport        0.00      0.00      0.00       431\n",
      "   talk-show        0.00      0.00      0.00       391\n",
      "    thriller        0.00      0.00      0.00      1590\n",
      "         war        0.00      0.00      0.00       132\n",
      "     western        0.00      0.00      0.00      1032\n",
      "\n",
      "     accuracy                           0.44     54200\n",
      "    macro avg       0.10      0.07      0.05     54200\n",
      " weighted avg       0.41      0.44      0.30     54200\n",
      "\n"
     ]
    },
    {
     "name": "stderr",
     "output_type": "stream",
     "text": [
      "C:\\Users\\97252\\PycharmProjects\\Movie Genre Classification\\Script\\lib\\site-packages\\sklearn\\metrics\\_classification.py:1509: UndefinedMetricWarning: Precision is ill-defined and being set to 0.0 in labels with no predicted samples. Use `zero_division` parameter to control this behavior.\n",
      "  _warn_prf(average, modifier, f\"{metric.capitalize()} is\", len(result))\n"
     ]
    }
   ],
   "source": [
    "# Initialize the Naive Bayes classifier\n",
    "nb_classifier = MultinomialNB()\n",
    "\n",
    "# Train the classifier\n",
    "nb_classifier.fit(tfidf_train, train_data['Genre'])\n",
    "\n",
    "# Make predictions on the test data\n",
    "predictions = nb_classifier.predict(tfidf_test)\n",
    "\n",
    "# Evaluate the model\n",
    "accuracy = accuracy_score(test_sol_data['Genre'], predictions)\n",
    "print(\"Accuracy:\", accuracy)\n",
    "\n",
    "# Get classification report\n",
    "print(\"\\nClassification Report:\")\n",
    "print(classification_report(test_sol_data['Genre'], predictions))"
   ],
   "metadata": {
    "collapsed": false,
    "pycharm": {
     "name": "#%%\n"
    }
   }
  },
  {
   "cell_type": "code",
   "execution_count": 17,
   "outputs": [
    {
     "name": "stdout",
     "output_type": "stream",
     "text": [
      "Accuracy with CountVectorizer: 0.5173985239852399\n",
      "\n",
      "Classification Report with CountVectorizer:\n"
     ]
    },
    {
     "name": "stderr",
     "output_type": "stream",
     "text": [
      "C:\\Users\\97252\\PycharmProjects\\Movie Genre Classification\\Script\\lib\\site-packages\\sklearn\\metrics\\_classification.py:1509: UndefinedMetricWarning: Precision is ill-defined and being set to 0.0 in labels with no predicted samples. Use `zero_division` parameter to control this behavior.\n",
      "  _warn_prf(average, modifier, f\"{metric.capitalize()} is\", len(result))\n",
      "C:\\Users\\97252\\PycharmProjects\\Movie Genre Classification\\Script\\lib\\site-packages\\sklearn\\metrics\\_classification.py:1509: UndefinedMetricWarning: Precision is ill-defined and being set to 0.0 in labels with no predicted samples. Use `zero_division` parameter to control this behavior.\n",
      "  _warn_prf(average, modifier, f\"{metric.capitalize()} is\", len(result))\n"
     ]
    },
    {
     "name": "stdout",
     "output_type": "stream",
     "text": [
      "               precision    recall  f1-score   support\n",
      "\n",
      "      action        0.56      0.03      0.06      1314\n",
      "       adult        0.31      0.01      0.02       590\n",
      "   adventure        0.57      0.03      0.06       775\n",
      "   animation        0.00      0.00      0.00       498\n",
      "   biography        0.00      0.00      0.00       264\n",
      "      comedy        0.52      0.46      0.49      7446\n",
      "       crime        0.00      0.00      0.00       505\n",
      " documentary        0.56      0.89      0.68     13096\n",
      "       drama        0.46      0.81      0.59     13612\n",
      "      family        1.00      0.00      0.01       783\n",
      "     fantasy        0.00      0.00      0.00       322\n",
      "   game-show        1.00      0.10      0.19       193\n",
      "     history        0.00      0.00      0.00       243\n",
      "      horror        0.73      0.27      0.39      2204\n",
      "       music        0.91      0.06      0.11       731\n",
      "     musical        1.00      0.01      0.03       276\n",
      "     mystery        0.00      0.00      0.00       318\n",
      "        news        0.00      0.00      0.00       181\n",
      "  reality-tv        1.00      0.00      0.01       883\n",
      "     romance        0.00      0.00      0.00       672\n",
      "      sci-fi        0.50      0.00      0.00       646\n",
      "       short        0.63      0.12      0.20      5072\n",
      "       sport        0.84      0.11      0.19       431\n",
      "   talk-show        0.00      0.00      0.00       391\n",
      "    thriller        0.17      0.00      0.00      1590\n",
      "         war        0.00      0.00      0.00       132\n",
      "     western        0.97      0.56      0.71      1032\n",
      "\n",
      "     accuracy                           0.52     54200\n",
      "    macro avg       0.43      0.13      0.14     54200\n",
      " weighted avg       0.52      0.52      0.43     54200\n",
      "\n"
     ]
    },
    {
     "name": "stderr",
     "output_type": "stream",
     "text": [
      "C:\\Users\\97252\\PycharmProjects\\Movie Genre Classification\\Script\\lib\\site-packages\\sklearn\\metrics\\_classification.py:1509: UndefinedMetricWarning: Precision is ill-defined and being set to 0.0 in labels with no predicted samples. Use `zero_division` parameter to control this behavior.\n",
      "  _warn_prf(average, modifier, f\"{metric.capitalize()} is\", len(result))\n"
     ]
    }
   ],
   "source": [
    "# Initialize the Naive Bayes classifier\n",
    "nb_classifier_count = MultinomialNB()\n",
    "\n",
    "# Train the classifier\n",
    "nb_classifier_count.fit(count_train, train_data['Genre'])\n",
    "\n",
    "# Make predictions on the test data\n",
    "predictions_count = nb_classifier_count.predict(count_test)\n",
    "\n",
    "# Evaluate the model\n",
    "accuracy_count = accuracy_score(test_sol_data['Genre'], predictions_count)\n",
    "print(\"Accuracy with CountVectorizer:\", accuracy_count)\n",
    "\n",
    "# Get classification report\n",
    "print(\"\\nClassification Report with CountVectorizer:\")\n",
    "print(classification_report(test_sol_data['Genre'], predictions_count))\n",
    "\n",
    "\n"
   ],
   "metadata": {
    "collapsed": false,
    "pycharm": {
     "name": "#%%\n"
    }
   }
  },
  {
   "cell_type": "code",
   "execution_count": null,
   "outputs": [
    {
     "name": "stdout",
     "output_type": "stream",
     "text": [
      "DecisionTreeClassifier\n"
     ]
    }
   ],
   "source": [
    "from sklearn.tree import DecisionTreeClassifier\n",
    "from sklearn.ensemble import RandomForestClassifier\n",
    "\n",
    "print('DecisionTreeClassifier')\n",
    "\n",
    "# Initialize the Decision Tree classifier\n",
    "dt_classifier = DecisionTreeClassifier()\n",
    "\n",
    "# Train the Decision Tree classifier\n",
    "dt_classifier.fit(tfidf_train, train_data['Genre'])\n",
    "\n",
    "# Make predictions on the test data using Decision Tree\n",
    "predictions_dt = dt_classifier.predict(tfidf_test)\n",
    "\n",
    "# Evaluate the Decision Tree model\n",
    "accuracy_dt = accuracy_score(test_sol_data['Genre'], predictions_dt)\n",
    "print(\"Accuracy (Decision Tree):\", accuracy_dt)\n",
    "\n",
    "# Get classification report for Decision Tree\n",
    "print(\"\\nClassification Report (Decision Tree):\")\n",
    "print(classification_report(test_sol_data['Genre'], predictions_dt))"
   ],
   "metadata": {
    "collapsed": false,
    "pycharm": {
     "name": "#%%\n",
     "is_executing": true
    }
   }
  },
  {
   "cell_type": "code",
   "execution_count": null,
   "outputs": [],
   "source": [
    "# Initialize the Random Forest classifier\n",
    "rf_classifier = RandomForestClassifier()\n",
    "\n",
    "# Train the Random Forest classifier\n",
    "rf_classifier.fit(tfidf_train, train_data['Genre'])\n",
    "\n",
    "# Make predictions on the test data using Random Forest\n",
    "predictions_rf = rf_classifier.predict(tfidf_test)\n",
    "\n",
    "# Evaluate the Random Forest model\n",
    "accuracy_rf = accuracy_score(test_sol_data['Genre'], predictions_rf)\n",
    "print(\"\\nAccuracy (Random Forest):\", accuracy_rf)\n",
    "\n",
    "# Get classification report for Random Forest\n",
    "print(\"\\nClassification Report (Random Forest):\")\n",
    "print(classification_report(test_sol_data['Genre'], predictions_rf))\n",
    "\n",
    "\n"
   ],
   "metadata": {
    "collapsed": false,
    "pycharm": {
     "name": "#%%\n",
     "is_executing": true
    }
   }
  },
  {
   "cell_type": "code",
   "execution_count": null,
   "outputs": [],
   "source": [
    "from sklearn.neighbors import KNeighborsClassifier\n",
    "# Initialize the KNN classifier\n",
    "knn_classifier = KNeighborsClassifier()\n",
    "\n",
    "# Train the KNN classifier\n",
    "knn_classifier.fit(tfidf_train, train_data['Genre'])\n",
    "\n",
    "# Make predictions on the test data using KNN\n",
    "predictions_knn = knn_classifier.predict(tfidf_test)\n",
    "\n",
    "# Evaluate the KNN model\n",
    "accuracy_knn = accuracy_score(test_sol_data['Genre'], predictions_knn)\n",
    "print(\"\\nAccuracy (KNN):\", accuracy_knn)\n",
    "\n",
    "# Get classification report for KNN\n",
    "print(\"\\nClassification Report (KNN):\")\n",
    "print(classification_report(test_sol_data['Genre'], predictions_knn))\n"
   ],
   "metadata": {
    "collapsed": false,
    "pycharm": {
     "name": "#%%\n",
     "is_executing": true
    }
   }
  },
  {
   "cell_type": "code",
   "execution_count": null,
   "outputs": [],
   "source": [
    "# from sklearn.linear_model import LogisticRegression\n",
    "#\n",
    "#\n",
    "# # Initialize the Logistic Regression classifier\n",
    "# lr_classifier = LogisticRegression(multi_class='multinomial',max_iter=100, solver='sag')\n",
    "#\n",
    "# # Train the Logistic Regression classifier\n",
    "# lr_classifier.fit(tfidf_train, train_data['Genre'])\n",
    "#\n",
    "# # Make predictions on the test data using Logistic Regression\n",
    "# predictions_lr = lr_classifier.predict(tfidf_test)\n",
    "#\n",
    "# # Evaluate the Logistic Regression model\n",
    "# accuracy_lr = accuracy_score(test_sol_data['Genre'], predictions_lr)\n",
    "# print(\"Accuracy (Logistic Regression):\", accuracy_lr)\n",
    "#\n",
    "# # Get classification report for Logistic Regression\n",
    "# print(\"\\nClassification Report (Logistic Regression):\")\n",
    "# print(classification_report(test_sol_data['Genre'], predictions_lr))"
   ],
   "metadata": {
    "collapsed": false,
    "pycharm": {
     "name": "#%%\n",
     "is_executing": true
    }
   }
  },
  {
   "cell_type": "code",
   "execution_count": null,
   "outputs": [],
   "source": [
    "# print('svm')\n",
    "# # Initialize the SVM classifier\n",
    "# svm_classifier = SVC(kernel='linear')\n",
    "#\n",
    "# # Train the classifier\n",
    "# svm_classifier.fit(tfidf_train, train_data['Genre'])\n",
    "#\n",
    "# # Make predictions on the test data\n",
    "# predictions = svm_classifier.predict(tfidf_test)\n",
    "#\n",
    "# # Evaluate the model\n",
    "# accuracy = accuracy_score(test_sol_data['Genre'], predictions)\n",
    "# print(\"Accuracy:\", accuracy)\n",
    "#\n",
    "# # Get classification report\n",
    "# print(\"\\nClassification Report:\")\n",
    "# print(classification_report(test_sol_data['Genre'], predictions))\n",
    "\n",
    "\n",
    "\n"
   ],
   "metadata": {
    "collapsed": false,
    "pycharm": {
     "name": "#%%\n",
     "is_executing": true
    }
   }
  }
 ],
 "metadata": {
  "kernelspec": {
   "name": "pycharm-2d1458af",
   "language": "python",
   "display_name": "PyCharm (Movie Genre Classification)"
  },
  "language_info": {
   "codemirror_mode": {
    "name": "ipython",
    "version": 2
   },
   "file_extension": ".py",
   "mimetype": "text/x-python",
   "name": "python",
   "nbconvert_exporter": "python",
   "pygments_lexer": "ipython2",
   "version": "2.7.6"
  }
 },
 "nbformat": 4,
 "nbformat_minor": 0
}